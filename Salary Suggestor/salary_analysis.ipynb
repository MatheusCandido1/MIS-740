{
 "cells": [
  {
   "cell_type": "code",
   "execution_count": 17,
   "id": "d6248b5c",
   "metadata": {},
   "outputs": [
    {
     "name": "stdout",
     "output_type": "stream",
     "text": [
      "Mean salary:           $112297.87\n",
      "Standard deviation:    $70898.79\n",
      "Minimum salary:        $2859.00\n",
      "Maximum salary:        $600000.00\n",
      "25th percentile:       $62726.00\n",
      "Median:                $101570.00\n",
      "75th percentile:       $150000.00\n"
     ]
    },
    {
     "data": {
      "image/png": "[encoded data removed]",
      "text/plain": [
       "<Figure size 432x288 with 1 Axes>"
      ]
     },
     "metadata": {},
     "output_type": "display_data"
    }
   ],
   "source": [
    "import pandas as pd\n",
    "# import numpy, set the alias as np\n",
    "import numpy as np\n",
    "\n",
    "def formatToCurrency(value):\n",
    "  return '$' + str(format(value,'.2f'))\n",
    "\n",
    "# read the csv file to read the data\n",
    "data = pd.read_csv('ds_salaries.csv');\n",
    "# use only the 'height(cm)' column to create a numpy array\n",
    "salaries = np.array(data['salary_in_usd'])\n",
    "\n",
    "# Use the aggregations to show the statistics of the height\n",
    "print(\"Mean salary:          \",formatToCurrency(salaries.mean()))\n",
    "print(\"Standard deviation:   \",formatToCurrency(salaries.std()))\n",
    "print(\"Minimum salary:       \",formatToCurrency(salaries.min()))\n",
    "print(\"Maximum salary:       \",formatToCurrency(salaries.max()))\n",
    "print(\"25th percentile:      \",formatToCurrency( np.percentile(salaries, 25)))\n",
    "print(\"Median:               \",formatToCurrency( np.median(salaries)))\n",
    "print(\"75th percentile:      \",formatToCurrency( np.percentile(salaries, 75)))\n",
    "\n",
    "# use tools in Matplotlib to visualize the data\n",
    "%matplotlib inline\n",
    "import matplotlib.pyplot as plt\n",
    "import seaborn; seaborn.set()  # set plot style\n",
    "plt.hist(salaries)\n",
    "plt.title('Salaries')\n",
    "plt.xlabel('Salary (In USD)')\n",
    "plt.ylabel('number');"
   ]
  },
  {
   "cell_type": "code",
   "execution_count": null,
   "id": "3b322425",
   "metadata": {},
   "outputs": [],
   "source": []
  }
 ],
 "metadata": {
  "kernelspec": {
   "display_name": "Python 3 (ipykernel)",
   "language": "python",
   "name": "python3"
  },
  "language_info": {
   "codemirror_mode": {
    "name": "ipython",
    "version": 3
   },
   "file_extension": ".py",
   "mimetype": "text/x-python",
   "name": "python",
   "nbconvert_exporter": "python",
   "pygments_lexer": "ipython3",
   "version": "3.9.12"
  }
 },
 "nbformat": 4,
 "nbformat_minor": 5
}
